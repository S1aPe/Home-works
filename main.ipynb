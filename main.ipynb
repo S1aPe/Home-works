{
 "cells": [
  {
   "cell_type": "markdown",
   "id": "32b4355f",
   "metadata": {},
   "source": [
    "22.07"
   ]
  },
  {
   "cell_type": "code",
   "execution_count": 1,
   "id": "e59bd2de",
   "metadata": {},
   "outputs": [
    {
     "name": "stdout",
     "output_type": "stream",
     "text": [
      "Исходные данные:\n",
      "      Имя  Возраст            Город\n",
      "0    Анна       25           Москва\n",
      "1   Борис       32  Санкт-Петербург\n",
      "2  Виктор       19           Казань\n",
      "3   Дарья       41      Владивосток\n",
      "\n",
      "Люди старше 30 лет:\n",
      "     Имя  Возраст            Город\n",
      "1  Борис       32  Санкт-Петербург\n",
      "3  Дарья       41      Владивосток\n",
      "\n",
      "Добавлен столбец 'Старше 30':\n",
      "      Имя  Возраст            Город  Старше 30\n",
      "0    Анна       25           Москва      False\n",
      "1   Борис       32  Санкт-Петербург       True\n",
      "2  Виктор       19           Казань      False\n",
      "3   Дарья       41      Владивосток       True\n",
      "\n",
      "Данные сохранены в файл 'people.csv'\n"
     ]
    }
   ],
   "source": [
    "import pandas as pd\n",
    "\n",
    "# Создаем небольшой DataFrame\n",
    "data = {\n",
    "    \"Имя\": [\"Анна\", \"Борис\", \"Виктор\", \"Дарья\"],\n",
    "    \"Возраст\": [25, 32, 19, 41],\n",
    "    \"Город\": [\"Москва\", \"Санкт-Петербург\", \"Казань\", \"Владивосток\"]\n",
    "}\n",
    "\n",
    "df = pd.DataFrame(data)\n",
    "\n",
    "# Выводим данные\n",
    "print(\"Исходные данные:\")\n",
    "print(df)\n",
    "\n",
    "# Фильтруем людей старше 30\n",
    "print(\"\\nЛюди старше 30 лет:\")\n",
    "print(df[df[\"Возраст\"] > 30])\n",
    "\n",
    "# Добавляем новый столбец\n",
    "df[\"Старше 30\"] = df[\"Возраст\"] > 30\n",
    "print(\"\\nДобавлен столбец 'Старше 30':\")\n",
    "print(df)\n",
    "\n",
    "# Сохраняем в CSV\n",
    "df.to_csv(\"people.csv\", index=False)\n",
    "print(\"\\nДанные сохранены в файл 'people.csv'\")"
   ]
  },
  {
   "cell_type": "markdown",
   "id": "7411ac59",
   "metadata": {},
   "source": [
    "25.07"
   ]
  },
  {
   "cell_type": "code",
   "execution_count": null,
   "id": "060d2e13",
   "metadata": {},
   "outputs": [],
   "source": [
    "class Dog:\n",
    "    def __init__(self, name, breed, age, color):\n",
    "        self.name = name          # кличка\n",
    "        self.breed = breed        # порода\n",
    "        self.age = age            # возраст (в годах)\n",
    "        self.color = color        # окрас\n",
    "\n",
    "class Cat:\n",
    "    def __init__(self, name, breed, age, color):\n",
    "        self.name = name          # кличка\n",
    "        self.breed = breed        # порода\n",
    "        self.age = age            # возраст (в годах)\n",
    "        self.color = color        # окрас\n",
    "\n",
    "class Car:\n",
    "    def __init__(self, brand, model, year, color, max_speed, fuel_type):\n",
    "        self.brand = brand        # марка (например, \"Toyota\")\n",
    "        self.model = model        # модель (например, \"Camry\")\n",
    "        self.year = year          # год выпуска\n",
    "        self.color = color        # цвет\n",
    "        self.max_speed = max_speed  # максимальная скорость (км/ч)\n",
    "        self.fuel_type = fuel_type  # тип топлива (\"бензин\", \"дизель\", \"электричество\")/ч.\"\n",
    "\n",
    "\n",
    "class Bicycle:\n",
    "    def __init__(self, brand, model, wheel_size, gear_count):\n",
    "        self.brand = brand          # бренд (например, \"Stels\")\n",
    "        self.model = model          # модель\n",
    "        self.wheel_size = wheel_size  # размер колес (в дюймах)\n",
    "        self.gear_count = gear_count  # количество передач\n"
   ]
  },
  {
   "cell_type": "markdown",
   "id": "27329867",
   "metadata": {},
   "source": [
    "29.07"
   ]
  },
  {
   "cell_type": "code",
   "execution_count": null,
   "id": "c10d3f24",
   "metadata": {},
   "outputs": [],
   "source": [
    "#Задание 1\n",
    "\n",
    "class LimitedCounter:\n",
    "    MAX_VALUE = 10\n",
    "    \n",
    "    def __init__(self):\n",
    "        self.value = 0\n",
    "    \n",
    "    def increment(self):\n",
    "        if self.value < self.MAX_VALUE:\n",
    "            self.value += 1\n",
    "    \n",
    "    def reset(self):\n",
    "        self.value = 0"
   ]
  },
  {
   "cell_type": "code",
   "execution_count": null,
   "id": "7d05fb4d",
   "metadata": {},
   "outputs": [],
   "source": [
    "#Задание 2\n",
    "\n",
    "class PasswordValidator:\n",
    "    MIN_LENGTH = 6\n",
    "    \n",
    "    def __init__(self, password):\n",
    "        self.password = password\n",
    "    \n",
    "    def is_valid(self):\n",
    "        if len(self.password) < self.MIN_LENGTH:\n",
    "            return False\n",
    "        \n",
    "        has_digit = False\n",
    "        for char in self.password:\n",
    "            if char.isdigit():\n",
    "                has_digit = True\n",
    "                break\n",
    "        \n",
    "        return has_digit"
   ]
  },
  {
   "cell_type": "code",
   "execution_count": null,
   "id": "4ea81026",
   "metadata": {},
   "outputs": [],
   "source": [
    "#Задание 3\n",
    "\n",
    "class SequenceGenerator:\n",
    "    def __init__(self, first_term, ratio):\n",
    "        self.first_term = first_term\n",
    "        self.ratio = ratio\n",
    "    \n",
    "    def get_term(self, n):\n",
    "        if n == 1:\n",
    "            return self.first_term\n",
    "        return self.ratio * self.get_term(n - 1)"
   ]
  },
  {
   "cell_type": "code",
   "execution_count": null,
   "id": "555f501c",
   "metadata": {},
   "outputs": [],
   "source": [
    "#Задание 4\n",
    "\n",
    "class ShoppingCart:\n",
    "    def __init__(self):\n",
    "        self.items = {}\n",
    "    \n",
    "    def add_item(self, item, quantity=1):\n",
    "        if item in self.items:\n",
    "            self.items[item] += quantity\n",
    "        else:\n",
    "            self.items[item] = quantity\n",
    "    \n",
    "    def total_items(self):\n",
    "        total = 0\n",
    "        for quantity in self.items.values():\n",
    "            total += quantity\n",
    "        return total"
   ]
  },
  {
   "cell_type": "code",
   "execution_count": null,
   "id": "bcbaf86e",
   "metadata": {},
   "outputs": [],
   "source": [
    "#Задание 5\n",
    "\n",
    "class Book:\n",
    "    all_books = []\n",
    "    \n",
    "    def __init__(self, title, author):\n",
    "        self.title = title\n",
    "        self.author = author\n",
    "        Book.all_books.append(self)\n",
    "    \n",
    "    @classmethod\n",
    "    def find_by_author(cls, author):\n",
    "        books_by_author = []\n",
    "        for book in cls.all_books:\n",
    "            if book.author == author:\n",
    "                books_by_author.append(book)\n",
    "        return books_by_author"
   ]
  }
 ],
 "metadata": {
  "kernelspec": {
   "display_name": "Python 3",
   "language": "python",
   "name": "python3"
  },
  "language_info": {
   "codemirror_mode": {
    "name": "ipython",
    "version": 3
   },
   "file_extension": ".py",
   "mimetype": "text/x-python",
   "name": "python",
   "nbconvert_exporter": "python",
   "pygments_lexer": "ipython3",
   "version": "3.12.1"
  }
 },
 "nbformat": 4,
 "nbformat_minor": 5
}
