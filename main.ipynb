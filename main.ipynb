{
 "cells": [
  {
   "cell_type": "markdown",
   "id": "32b4355f",
   "metadata": {},
   "source": [
    "22.07"
   ]
  },
  {
   "cell_type": "code",
   "execution_count": 1,
   "id": "e59bd2de",
   "metadata": {},
   "outputs": [
    {
     "name": "stdout",
     "output_type": "stream",
     "text": [
      "Исходные данные:\n",
      "      Имя  Возраст            Город\n",
      "0    Анна       25           Москва\n",
      "1   Борис       32  Санкт-Петербург\n",
      "2  Виктор       19           Казань\n",
      "3   Дарья       41      Владивосток\n",
      "\n",
      "Люди старше 30 лет:\n",
      "     Имя  Возраст            Город\n",
      "1  Борис       32  Санкт-Петербург\n",
      "3  Дарья       41      Владивосток\n",
      "\n",
      "Добавлен столбец 'Старше 30':\n",
      "      Имя  Возраст            Город  Старше 30\n",
      "0    Анна       25           Москва      False\n",
      "1   Борис       32  Санкт-Петербург       True\n",
      "2  Виктор       19           Казань      False\n",
      "3   Дарья       41      Владивосток       True\n",
      "\n",
      "Данные сохранены в файл 'people.csv'\n"
     ]
    }
   ],
   "source": [
    "import pandas as pd\n",
    "\n",
    "# Создаем небольшой DataFrame\n",
    "data = {\n",
    "    \"Имя\": [\"Анна\", \"Борис\", \"Виктор\", \"Дарья\"],\n",
    "    \"Возраст\": [25, 32, 19, 41],\n",
    "    \"Город\": [\"Москва\", \"Санкт-Петербург\", \"Казань\", \"Владивосток\"]\n",
    "}\n",
    "\n",
    "df = pd.DataFrame(data)\n",
    "\n",
    "# Выводим данные\n",
    "print(\"Исходные данные:\")\n",
    "print(df)\n",
    "\n",
    "# Фильтруем людей старше 30\n",
    "print(\"\\nЛюди старше 30 лет:\")\n",
    "print(df[df[\"Возраст\"] > 30])\n",
    "\n",
    "# Добавляем новый столбец\n",
    "df[\"Старше 30\"] = df[\"Возраст\"] > 30\n",
    "print(\"\\nДобавлен столбец 'Старше 30':\")\n",
    "print(df)\n",
    "\n",
    "# Сохраняем в CSV\n",
    "df.to_csv(\"people.csv\", index=False)\n",
    "print(\"\\nДанные сохранены в файл 'people.csv'\")"
   ]
  },
  {
   "cell_type": "markdown",
   "id": "7411ac59",
   "metadata": {},
   "source": [
    "25.07"
   ]
  },
  {
   "cell_type": "code",
   "execution_count": null,
   "id": "060d2e13",
   "metadata": {},
   "outputs": [],
   "source": [
    "class Dog:\n",
    "    def __init__(self, name, breed, age, color):\n",
    "        self.name = name          # кличка\n",
    "        self.breed = breed        # порода\n",
    "        self.age = age            # возраст (в годах)\n",
    "        self.color = color        # окрас\n",
    "\n",
    "class Cat:\n",
    "    def __init__(self, name, breed, age, color):\n",
    "        self.name = name          # кличка\n",
    "        self.breed = breed        # порода\n",
    "        self.age = age            # возраст (в годах)\n",
    "        self.color = color        # окрас\n",
    "\n",
    "class Car:\n",
    "    def __init__(self, brand, model, year, color, max_speed, fuel_type):\n",
    "        self.brand = brand        # марка (например, \"Toyota\")\n",
    "        self.model = model        # модель (например, \"Camry\")\n",
    "        self.year = year          # год выпуска\n",
    "        self.color = color        # цвет\n",
    "        self.max_speed = max_speed  # максимальная скорость (км/ч)\n",
    "        self.fuel_type = fuel_type  # тип топлива (\"бензин\", \"дизель\", \"электричество\")/ч.\"\n",
    "\n",
    "\n",
    "class Bicycle:\n",
    "    def __init__(self, brand, model, wheel_size, gear_count):\n",
    "        self.brand = brand          # бренд (например, \"Stels\")\n",
    "        self.model = model          # модель\n",
    "        self.wheel_size = wheel_size  # размер колес (в дюймах)\n",
    "        self.gear_count = gear_count  # количество передач\n"
   ]
  }
 ],
 "metadata": {
  "kernelspec": {
   "display_name": "Python 3",
   "language": "python",
   "name": "python3"
  },
  "language_info": {
   "codemirror_mode": {
    "name": "ipython",
    "version": 3
   },
   "file_extension": ".py",
   "mimetype": "text/x-python",
   "name": "python",
   "nbconvert_exporter": "python",
   "pygments_lexer": "ipython3",
   "version": "3.12.1"
  }
 },
 "nbformat": 4,
 "nbformat_minor": 5
}
